{
 "cells": [
  {
   "cell_type": "markdown",
   "source": [
    "# The purpose of this short notebook is to familiarize myself with importing models. I will:\n",
    "1. Initialize new data (as could be collected from a user if I designed an interface)\n",
    "2. Transform that data into the same normalized, regularized, one-hot-encoded format as the training data\n",
    "3. Import the models\n",
    "4. Make predictions on the new data"
   ],
   "metadata": {
    "collapsed": false
   }
  },
  {
   "cell_type": "code",
   "execution_count": 33,
   "metadata": {
    "collapsed": true,
    "ExecuteTime": {
     "end_time": "2023-05-24T21:47:34.417085Z",
     "start_time": "2023-05-24T21:47:34.388668Z"
    }
   },
   "outputs": [],
   "source": [
    "import pandas as pd\n",
    "import numpy as np\n",
    "from sklearn.preprocessing import MinMaxScaler, StandardScaler\n",
    "import joblib"
   ]
  },
  {
   "cell_type": "code",
   "execution_count": 34,
   "outputs": [],
   "source": [
    "df = pd.read_csv(\"heart_failure_data.csv\")\n",
    "df = df.drop([\"HeartDisease\"], axis=1)"
   ],
   "metadata": {
    "collapsed": false,
    "ExecuteTime": {
     "end_time": "2023-05-24T21:47:34.418074Z",
     "start_time": "2023-05-24T21:47:34.393535Z"
    }
   }
  },
  {
   "cell_type": "markdown",
   "source": [
    "### Initialize new data"
   ],
   "metadata": {
    "collapsed": false
   }
  },
  {
   "cell_type": "code",
   "execution_count": 35,
   "outputs": [],
   "source": [
    "new_data = pd.DataFrame({\n",
    "    \"Age\": [50],\n",
    "    \"Sex\": [\"F\"],\n",
    "    \"ChestPainType\": [\"TA\"],\n",
    "    \"RestingBP\": [130],\n",
    "    \"Cholesterol\": [240],\n",
    "    \"FastingBS\": [1],\n",
    "    \"RestingECG\": [\"LVH\"],\n",
    "    \"MaxHR\": [170],\n",
    "    \"ExerciseAngina\": [\"N\"],\n",
    "    \"Oldpeak\": [1.5],\n",
    "    \"ST_Slope\": [\"Down\"]\n",
    "})"
   ],
   "metadata": {
    "collapsed": false,
    "ExecuteTime": {
     "end_time": "2023-05-24T21:47:34.442990Z",
     "start_time": "2023-05-24T21:47:34.405348Z"
    }
   }
  },
  {
   "cell_type": "markdown",
   "source": [
    "### Add new data to dataframe"
   ],
   "metadata": {
    "collapsed": false
   }
  },
  {
   "cell_type": "code",
   "execution_count": 36,
   "outputs": [
    {
     "data": {
      "text/plain": "     Age Sex ChestPainType  RestingBP  Cholesterol  FastingBS RestingECG   \n913   45   M            TA        110          264          0     Normal  \\\n914   68   M           ASY        144          193          1     Normal   \n915   57   M           ASY        130          131          0     Normal   \n916   57   F           ATA        130          236          0        LVH   \n917   38   M           NAP        138          175          0     Normal   \n\n     MaxHR ExerciseAngina  Oldpeak ST_Slope  \n913    132              N      1.2     Flat  \n914    141              N      3.4     Flat  \n915    115              Y      1.2     Flat  \n916    174              N      0.0     Flat  \n917    173              N      0.0       Up  ",
      "text/html": "<div>\n<style scoped>\n    .dataframe tbody tr th:only-of-type {\n        vertical-align: middle;\n    }\n\n    .dataframe tbody tr th {\n        vertical-align: top;\n    }\n\n    .dataframe thead th {\n        text-align: right;\n    }\n</style>\n<table border=\"1\" class=\"dataframe\">\n  <thead>\n    <tr style=\"text-align: right;\">\n      <th></th>\n      <th>Age</th>\n      <th>Sex</th>\n      <th>ChestPainType</th>\n      <th>RestingBP</th>\n      <th>Cholesterol</th>\n      <th>FastingBS</th>\n      <th>RestingECG</th>\n      <th>MaxHR</th>\n      <th>ExerciseAngina</th>\n      <th>Oldpeak</th>\n      <th>ST_Slope</th>\n    </tr>\n  </thead>\n  <tbody>\n    <tr>\n      <th>913</th>\n      <td>45</td>\n      <td>M</td>\n      <td>TA</td>\n      <td>110</td>\n      <td>264</td>\n      <td>0</td>\n      <td>Normal</td>\n      <td>132</td>\n      <td>N</td>\n      <td>1.2</td>\n      <td>Flat</td>\n    </tr>\n    <tr>\n      <th>914</th>\n      <td>68</td>\n      <td>M</td>\n      <td>ASY</td>\n      <td>144</td>\n      <td>193</td>\n      <td>1</td>\n      <td>Normal</td>\n      <td>141</td>\n      <td>N</td>\n      <td>3.4</td>\n      <td>Flat</td>\n    </tr>\n    <tr>\n      <th>915</th>\n      <td>57</td>\n      <td>M</td>\n      <td>ASY</td>\n      <td>130</td>\n      <td>131</td>\n      <td>0</td>\n      <td>Normal</td>\n      <td>115</td>\n      <td>Y</td>\n      <td>1.2</td>\n      <td>Flat</td>\n    </tr>\n    <tr>\n      <th>916</th>\n      <td>57</td>\n      <td>F</td>\n      <td>ATA</td>\n      <td>130</td>\n      <td>236</td>\n      <td>0</td>\n      <td>LVH</td>\n      <td>174</td>\n      <td>N</td>\n      <td>0.0</td>\n      <td>Flat</td>\n    </tr>\n    <tr>\n      <th>917</th>\n      <td>38</td>\n      <td>M</td>\n      <td>NAP</td>\n      <td>138</td>\n      <td>175</td>\n      <td>0</td>\n      <td>Normal</td>\n      <td>173</td>\n      <td>N</td>\n      <td>0.0</td>\n      <td>Up</td>\n    </tr>\n  </tbody>\n</table>\n</div>"
     },
     "metadata": {},
     "output_type": "display_data"
    },
    {
     "data": {
      "text/plain": "     Age Sex ChestPainType  RestingBP  Cholesterol  FastingBS RestingECG   \n914   45   M            TA        110          264          0     Normal  \\\n915   68   M           ASY        144          193          1     Normal   \n916   57   M           ASY        130          131          0     Normal   \n917   57   F           ATA        130          236          0        LVH   \n918   38   M           NAP        138          175          0     Normal   \n\n     MaxHR ExerciseAngina  Oldpeak ST_Slope  \n914    132              N      1.2     Flat  \n915    141              N      3.4     Flat  \n916    115              Y      1.2     Flat  \n917    174              N      0.0     Flat  \n918    173              N      0.0       Up  ",
      "text/html": "<div>\n<style scoped>\n    .dataframe tbody tr th:only-of-type {\n        vertical-align: middle;\n    }\n\n    .dataframe tbody tr th {\n        vertical-align: top;\n    }\n\n    .dataframe thead th {\n        text-align: right;\n    }\n</style>\n<table border=\"1\" class=\"dataframe\">\n  <thead>\n    <tr style=\"text-align: right;\">\n      <th></th>\n      <th>Age</th>\n      <th>Sex</th>\n      <th>ChestPainType</th>\n      <th>RestingBP</th>\n      <th>Cholesterol</th>\n      <th>FastingBS</th>\n      <th>RestingECG</th>\n      <th>MaxHR</th>\n      <th>ExerciseAngina</th>\n      <th>Oldpeak</th>\n      <th>ST_Slope</th>\n    </tr>\n  </thead>\n  <tbody>\n    <tr>\n      <th>914</th>\n      <td>45</td>\n      <td>M</td>\n      <td>TA</td>\n      <td>110</td>\n      <td>264</td>\n      <td>0</td>\n      <td>Normal</td>\n      <td>132</td>\n      <td>N</td>\n      <td>1.2</td>\n      <td>Flat</td>\n    </tr>\n    <tr>\n      <th>915</th>\n      <td>68</td>\n      <td>M</td>\n      <td>ASY</td>\n      <td>144</td>\n      <td>193</td>\n      <td>1</td>\n      <td>Normal</td>\n      <td>141</td>\n      <td>N</td>\n      <td>3.4</td>\n      <td>Flat</td>\n    </tr>\n    <tr>\n      <th>916</th>\n      <td>57</td>\n      <td>M</td>\n      <td>ASY</td>\n      <td>130</td>\n      <td>131</td>\n      <td>0</td>\n      <td>Normal</td>\n      <td>115</td>\n      <td>Y</td>\n      <td>1.2</td>\n      <td>Flat</td>\n    </tr>\n    <tr>\n      <th>917</th>\n      <td>57</td>\n      <td>F</td>\n      <td>ATA</td>\n      <td>130</td>\n      <td>236</td>\n      <td>0</td>\n      <td>LVH</td>\n      <td>174</td>\n      <td>N</td>\n      <td>0.0</td>\n      <td>Flat</td>\n    </tr>\n    <tr>\n      <th>918</th>\n      <td>38</td>\n      <td>M</td>\n      <td>NAP</td>\n      <td>138</td>\n      <td>175</td>\n      <td>0</td>\n      <td>Normal</td>\n      <td>173</td>\n      <td>N</td>\n      <td>0.0</td>\n      <td>Up</td>\n    </tr>\n  </tbody>\n</table>\n</div>"
     },
     "metadata": {},
     "output_type": "display_data"
    }
   ],
   "source": [
    "# add new data to dataframe\n",
    "display(df.tail())\n",
    "df = pd.concat([new_data, df], ignore_index=True)\n",
    "display(df.tail())"
   ],
   "metadata": {
    "collapsed": false,
    "ExecuteTime": {
     "end_time": "2023-05-24T21:47:34.444823Z",
     "start_time": "2023-05-24T21:47:34.414385Z"
    }
   }
  },
  {
   "cell_type": "markdown",
   "source": [
    "### Augment features the same way I did on training data"
   ],
   "metadata": {
    "collapsed": false
   }
  },
  {
   "cell_type": "code",
   "execution_count": 37,
   "outputs": [],
   "source": [
    "numerical_features = df.select_dtypes(include=[np.number])\n",
    "numerical_features = numerical_features.drop([\"FastingBS\"], axis=1)\n",
    "continuous_feature_names = numerical_features.columns.tolist()\n",
    "\n",
    "categorical_features = df.select_dtypes(include=[object])\n",
    "categorical_feature_names = categorical_features.columns.to_list() + [\"FastingBS\"]"
   ],
   "metadata": {
    "collapsed": false,
    "ExecuteTime": {
     "end_time": "2023-05-24T21:47:34.444894Z",
     "start_time": "2023-05-24T21:47:34.425948Z"
    }
   }
  },
  {
   "cell_type": "code",
   "execution_count": 38,
   "outputs": [
    {
     "data": {
      "text/plain": "          Age Sex ChestPainType  RestingBP  Cholesterol  FastingBS RestingECG   \n914 -0.902793   M            TA  -1.210863     0.596262          0     Normal  \\\n915  1.538028   M           ASY   0.627554    -0.053484          1     Normal   \n916  0.370679   M           ASY  -0.129441    -0.620868          0     Normal   \n917  0.370679   F           ATA  -0.129441     0.340024          0        LVH   \n918 -1.645652   M           NAP   0.303128    -0.218208          0     Normal   \n\n        MaxHR ExerciseAngina   Oldpeak ST_Slope  \n914 -0.190346              N  0.292764     Flat  \n915  0.163203              N  2.357328     Flat  \n916 -0.858162              Y  0.292764     Flat  \n917  1.459550              N -0.833362     Flat  \n918  1.420267              N -0.833362       Up  ",
      "text/html": "<div>\n<style scoped>\n    .dataframe tbody tr th:only-of-type {\n        vertical-align: middle;\n    }\n\n    .dataframe tbody tr th {\n        vertical-align: top;\n    }\n\n    .dataframe thead th {\n        text-align: right;\n    }\n</style>\n<table border=\"1\" class=\"dataframe\">\n  <thead>\n    <tr style=\"text-align: right;\">\n      <th></th>\n      <th>Age</th>\n      <th>Sex</th>\n      <th>ChestPainType</th>\n      <th>RestingBP</th>\n      <th>Cholesterol</th>\n      <th>FastingBS</th>\n      <th>RestingECG</th>\n      <th>MaxHR</th>\n      <th>ExerciseAngina</th>\n      <th>Oldpeak</th>\n      <th>ST_Slope</th>\n    </tr>\n  </thead>\n  <tbody>\n    <tr>\n      <th>914</th>\n      <td>-0.902793</td>\n      <td>M</td>\n      <td>TA</td>\n      <td>-1.210863</td>\n      <td>0.596262</td>\n      <td>0</td>\n      <td>Normal</td>\n      <td>-0.190346</td>\n      <td>N</td>\n      <td>0.292764</td>\n      <td>Flat</td>\n    </tr>\n    <tr>\n      <th>915</th>\n      <td>1.538028</td>\n      <td>M</td>\n      <td>ASY</td>\n      <td>0.627554</td>\n      <td>-0.053484</td>\n      <td>1</td>\n      <td>Normal</td>\n      <td>0.163203</td>\n      <td>N</td>\n      <td>2.357328</td>\n      <td>Flat</td>\n    </tr>\n    <tr>\n      <th>916</th>\n      <td>0.370679</td>\n      <td>M</td>\n      <td>ASY</td>\n      <td>-0.129441</td>\n      <td>-0.620868</td>\n      <td>0</td>\n      <td>Normal</td>\n      <td>-0.858162</td>\n      <td>Y</td>\n      <td>0.292764</td>\n      <td>Flat</td>\n    </tr>\n    <tr>\n      <th>917</th>\n      <td>0.370679</td>\n      <td>F</td>\n      <td>ATA</td>\n      <td>-0.129441</td>\n      <td>0.340024</td>\n      <td>0</td>\n      <td>LVH</td>\n      <td>1.459550</td>\n      <td>N</td>\n      <td>-0.833362</td>\n      <td>Flat</td>\n    </tr>\n    <tr>\n      <th>918</th>\n      <td>-1.645652</td>\n      <td>M</td>\n      <td>NAP</td>\n      <td>0.303128</td>\n      <td>-0.218208</td>\n      <td>0</td>\n      <td>Normal</td>\n      <td>1.420267</td>\n      <td>N</td>\n      <td>-0.833362</td>\n      <td>Up</td>\n    </tr>\n  </tbody>\n</table>\n</div>"
     },
     "metadata": {},
     "output_type": "display_data"
    },
    {
     "data": {
      "text/plain": "          Age  RestingBP  Cholesterol     MaxHR   Oldpeak  Sex_F  Sex_M   \n914 -0.902793  -1.210863     0.596262 -0.190346  0.292764      0      1  \\\n915  1.538028   0.627554    -0.053484  0.163203  2.357328      0      1   \n916  0.370679  -0.129441    -0.620868 -0.858162  0.292764      0      1   \n917  0.370679  -0.129441     0.340024  1.459550 -0.833362      1      0   \n918 -1.645652   0.303128    -0.218208  1.420267 -0.833362      0      1   \n\n     ChestPainType_ASY  ChestPainType_ATA  ChestPainType_NAP  ...   \n914                  0                  0                  0  ...  \\\n915                  1                  0                  0  ...   \n916                  1                  0                  0  ...   \n917                  0                  1                  0  ...   \n918                  0                  0                  1  ...   \n\n     RestingECG_LVH  RestingECG_Normal  RestingECG_ST  ExerciseAngina_N   \n914               0                  1              0                 1  \\\n915               0                  1              0                 1   \n916               0                  1              0                 0   \n917               1                  0              0                 1   \n918               0                  1              0                 1   \n\n     ExerciseAngina_Y  ST_Slope_Down  ST_Slope_Flat  ST_Slope_Up  FastingBS_0   \n914                 0              0              1            0            1  \\\n915                 0              0              1            0            0   \n916                 1              0              1            0            1   \n917                 0              0              1            0            1   \n918                 0              0              0            1            1   \n\n     FastingBS_1  \n914            0  \n915            1  \n916            0  \n917            0  \n918            0  \n\n[5 rows x 21 columns]",
      "text/html": "<div>\n<style scoped>\n    .dataframe tbody tr th:only-of-type {\n        vertical-align: middle;\n    }\n\n    .dataframe tbody tr th {\n        vertical-align: top;\n    }\n\n    .dataframe thead th {\n        text-align: right;\n    }\n</style>\n<table border=\"1\" class=\"dataframe\">\n  <thead>\n    <tr style=\"text-align: right;\">\n      <th></th>\n      <th>Age</th>\n      <th>RestingBP</th>\n      <th>Cholesterol</th>\n      <th>MaxHR</th>\n      <th>Oldpeak</th>\n      <th>Sex_F</th>\n      <th>Sex_M</th>\n      <th>ChestPainType_ASY</th>\n      <th>ChestPainType_ATA</th>\n      <th>ChestPainType_NAP</th>\n      <th>...</th>\n      <th>RestingECG_LVH</th>\n      <th>RestingECG_Normal</th>\n      <th>RestingECG_ST</th>\n      <th>ExerciseAngina_N</th>\n      <th>ExerciseAngina_Y</th>\n      <th>ST_Slope_Down</th>\n      <th>ST_Slope_Flat</th>\n      <th>ST_Slope_Up</th>\n      <th>FastingBS_0</th>\n      <th>FastingBS_1</th>\n    </tr>\n  </thead>\n  <tbody>\n    <tr>\n      <th>914</th>\n      <td>-0.902793</td>\n      <td>-1.210863</td>\n      <td>0.596262</td>\n      <td>-0.190346</td>\n      <td>0.292764</td>\n      <td>0</td>\n      <td>1</td>\n      <td>0</td>\n      <td>0</td>\n      <td>0</td>\n      <td>...</td>\n      <td>0</td>\n      <td>1</td>\n      <td>0</td>\n      <td>1</td>\n      <td>0</td>\n      <td>0</td>\n      <td>1</td>\n      <td>0</td>\n      <td>1</td>\n      <td>0</td>\n    </tr>\n    <tr>\n      <th>915</th>\n      <td>1.538028</td>\n      <td>0.627554</td>\n      <td>-0.053484</td>\n      <td>0.163203</td>\n      <td>2.357328</td>\n      <td>0</td>\n      <td>1</td>\n      <td>1</td>\n      <td>0</td>\n      <td>0</td>\n      <td>...</td>\n      <td>0</td>\n      <td>1</td>\n      <td>0</td>\n      <td>1</td>\n      <td>0</td>\n      <td>0</td>\n      <td>1</td>\n      <td>0</td>\n      <td>0</td>\n      <td>1</td>\n    </tr>\n    <tr>\n      <th>916</th>\n      <td>0.370679</td>\n      <td>-0.129441</td>\n      <td>-0.620868</td>\n      <td>-0.858162</td>\n      <td>0.292764</td>\n      <td>0</td>\n      <td>1</td>\n      <td>1</td>\n      <td>0</td>\n      <td>0</td>\n      <td>...</td>\n      <td>0</td>\n      <td>1</td>\n      <td>0</td>\n      <td>0</td>\n      <td>1</td>\n      <td>0</td>\n      <td>1</td>\n      <td>0</td>\n      <td>1</td>\n      <td>0</td>\n    </tr>\n    <tr>\n      <th>917</th>\n      <td>0.370679</td>\n      <td>-0.129441</td>\n      <td>0.340024</td>\n      <td>1.459550</td>\n      <td>-0.833362</td>\n      <td>1</td>\n      <td>0</td>\n      <td>0</td>\n      <td>1</td>\n      <td>0</td>\n      <td>...</td>\n      <td>1</td>\n      <td>0</td>\n      <td>0</td>\n      <td>1</td>\n      <td>0</td>\n      <td>0</td>\n      <td>1</td>\n      <td>0</td>\n      <td>1</td>\n      <td>0</td>\n    </tr>\n    <tr>\n      <th>918</th>\n      <td>-1.645652</td>\n      <td>0.303128</td>\n      <td>-0.218208</td>\n      <td>1.420267</td>\n      <td>-0.833362</td>\n      <td>0</td>\n      <td>1</td>\n      <td>0</td>\n      <td>0</td>\n      <td>1</td>\n      <td>...</td>\n      <td>0</td>\n      <td>1</td>\n      <td>0</td>\n      <td>1</td>\n      <td>0</td>\n      <td>0</td>\n      <td>0</td>\n      <td>1</td>\n      <td>1</td>\n      <td>0</td>\n    </tr>\n  </tbody>\n</table>\n<p>5 rows × 21 columns</p>\n</div>"
     },
     "metadata": {},
     "output_type": "display_data"
    }
   ],
   "source": [
    "df2 = df.copy(deep=True)  # make a copy of the original data which we will modify\n",
    "\n",
    "# Initialize the scalers\n",
    "min_max_scaler = MinMaxScaler()\n",
    "standard_scaler = StandardScaler()  # not clear this was required for 'Age', 'RestingBP', or, 'MaxHR' because those were already looking pretty close to Gaussian. Further normalization here is unlikely to hurt, however. A further investigation into normality with QQ-plots and the shapiro wilk test could be a future direction and dictate whether those features get StandardScaler applied to them\n",
    "\n",
    "# Apply both scalers to each continuous variable\n",
    "for feature in continuous_feature_names:\n",
    "    # Perform MinMax scaling\n",
    "    min_max_scaled_data = min_max_scaler.fit_transform(df2[[feature]])\n",
    "\n",
    "    # Perform Standard scaling on the MinMax scaled data\n",
    "    min_max_standard_scaled_data = standard_scaler.fit_transform(min_max_scaled_data)\n",
    "\n",
    "    # Update the original DataFrame with the scaled data\n",
    "    df2[feature] = min_max_standard_scaled_data.flatten()\n",
    "\n",
    "display(df2.tail())\n",
    "\n",
    "# one hot encoding of categorical variables\n",
    "df2 = pd.get_dummies(df2, columns=categorical_feature_names, dtype=int)\n",
    "display(df2.tail())"
   ],
   "metadata": {
    "collapsed": false,
    "ExecuteTime": {
     "end_time": "2023-05-24T21:47:34.455170Z",
     "start_time": "2023-05-24T21:47:34.433047Z"
    }
   }
  },
  {
   "cell_type": "markdown",
   "source": [
    "### Extract row I added"
   ],
   "metadata": {
    "collapsed": false
   }
  },
  {
   "cell_type": "code",
   "execution_count": 39,
   "outputs": [
    {
     "data": {
      "text/plain": "          Age  RestingBP  Cholesterol     MaxHR   Oldpeak  Sex_F  Sex_M   \n918 -1.645652   0.303128    -0.218208  1.420267 -0.833362      0      1  \\\n\n     ChestPainType_ASY  ChestPainType_ATA  ChestPainType_NAP  ...   \n918                  0                  0                  1  ...  \\\n\n     RestingECG_LVH  RestingECG_Normal  RestingECG_ST  ExerciseAngina_N   \n918               0                  1              0                 1  \\\n\n     ExerciseAngina_Y  ST_Slope_Down  ST_Slope_Flat  ST_Slope_Up  FastingBS_0   \n918                 0              0              0            1            1  \\\n\n     FastingBS_1  \n918            0  \n\n[1 rows x 21 columns]",
      "text/html": "<div>\n<style scoped>\n    .dataframe tbody tr th:only-of-type {\n        vertical-align: middle;\n    }\n\n    .dataframe tbody tr th {\n        vertical-align: top;\n    }\n\n    .dataframe thead th {\n        text-align: right;\n    }\n</style>\n<table border=\"1\" class=\"dataframe\">\n  <thead>\n    <tr style=\"text-align: right;\">\n      <th></th>\n      <th>Age</th>\n      <th>RestingBP</th>\n      <th>Cholesterol</th>\n      <th>MaxHR</th>\n      <th>Oldpeak</th>\n      <th>Sex_F</th>\n      <th>Sex_M</th>\n      <th>ChestPainType_ASY</th>\n      <th>ChestPainType_ATA</th>\n      <th>ChestPainType_NAP</th>\n      <th>...</th>\n      <th>RestingECG_LVH</th>\n      <th>RestingECG_Normal</th>\n      <th>RestingECG_ST</th>\n      <th>ExerciseAngina_N</th>\n      <th>ExerciseAngina_Y</th>\n      <th>ST_Slope_Down</th>\n      <th>ST_Slope_Flat</th>\n      <th>ST_Slope_Up</th>\n      <th>FastingBS_0</th>\n      <th>FastingBS_1</th>\n    </tr>\n  </thead>\n  <tbody>\n    <tr>\n      <th>918</th>\n      <td>-1.645652</td>\n      <td>0.303128</td>\n      <td>-0.218208</td>\n      <td>1.420267</td>\n      <td>-0.833362</td>\n      <td>0</td>\n      <td>1</td>\n      <td>0</td>\n      <td>0</td>\n      <td>1</td>\n      <td>...</td>\n      <td>0</td>\n      <td>1</td>\n      <td>0</td>\n      <td>1</td>\n      <td>0</td>\n      <td>0</td>\n      <td>0</td>\n      <td>1</td>\n      <td>1</td>\n      <td>0</td>\n    </tr>\n  </tbody>\n</table>\n<p>1 rows × 21 columns</p>\n</div>"
     },
     "metadata": {},
     "output_type": "display_data"
    }
   ],
   "source": [
    "to_predict = df2.tail(1)  # get last row, keep as dataframe structure\n",
    "display(to_predict)"
   ],
   "metadata": {
    "collapsed": false,
    "ExecuteTime": {
     "end_time": "2023-05-24T21:47:34.462378Z",
     "start_time": "2023-05-24T21:47:34.460447Z"
    }
   }
  },
  {
   "cell_type": "markdown",
   "source": [
    "### Import models"
   ],
   "metadata": {
    "collapsed": false
   }
  },
  {
   "cell_type": "code",
   "execution_count": 40,
   "outputs": [],
   "source": [
    "# Load the models\n",
    "gnb_model1 = joblib.load(\"saved models/gnb_model1.pkl\")\n",
    "logistic_regressor1 = joblib.load(\"saved models/logistic_regressor1.pkl\")\n",
    "# Repeat for each model"
   ],
   "metadata": {
    "collapsed": false,
    "ExecuteTime": {
     "end_time": "2023-05-24T21:47:34.472785Z",
     "start_time": "2023-05-24T21:47:34.463532Z"
    }
   }
  },
  {
   "cell_type": "code",
   "execution_count": 41,
   "outputs": [
    {
     "name": "stdout",
     "output_type": "stream",
     "text": [
      "[0] [0]\n"
     ]
    }
   ],
   "source": [
    "# Use the loaded models to make predictions\n",
    "predictions1 = gnb_model1.predict(to_predict)\n",
    "predictions2 = logistic_regressor1.predict(to_predict)\n",
    "# Repeat for each model you want to use for predictions\n",
    "print(predictions2, predictions1)"
   ],
   "metadata": {
    "collapsed": false,
    "ExecuteTime": {
     "end_time": "2023-05-24T21:47:34.521280Z",
     "start_time": "2023-05-24T21:47:34.470144Z"
    }
   }
  },
  {
   "cell_type": "markdown",
   "source": [
    "# Conclusion:\n",
    "- Great! this went well, now I can implement a separate interface to prompt a user for their data and have my model predict their state!"
   ],
   "metadata": {
    "collapsed": false
   }
  }
 ],
 "metadata": {
  "kernelspec": {
   "display_name": "Python 3",
   "language": "python",
   "name": "python3"
  },
  "language_info": {
   "codemirror_mode": {
    "name": "ipython",
    "version": 2
   },
   "file_extension": ".py",
   "mimetype": "text/x-python",
   "name": "python",
   "nbconvert_exporter": "python",
   "pygments_lexer": "ipython2",
   "version": "2.7.6"
  }
 },
 "nbformat": 4,
 "nbformat_minor": 0
}
