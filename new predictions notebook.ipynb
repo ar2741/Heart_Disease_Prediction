{
 "cells": [
  {
   "cell_type": "markdown",
   "source": [
    "# The purpose of this short notebook is to familiarize myself with importing models. I will:\n",
    "1. Initialize new data (as could be collected from a user if I designed an interface)\n",
    "2. Transform that data into the same normalized, regularized, one-hot-encoded format as the training data\n",
    "3. Import the models\n",
    "4. Make predictions on the new data"
   ],
   "metadata": {
    "collapsed": false
   }
  },
  {
   "cell_type": "code",
   "execution_count": 6,
   "metadata": {
    "collapsed": true,
    "ExecuteTime": {
     "end_time": "2023-05-25T00:13:15.183106Z",
     "start_time": "2023-05-25T00:13:15.155841Z"
    }
   },
   "outputs": [],
   "source": [
    "import pandas as pd\n",
    "import numpy as np\n",
    "from sklearn.preprocessing import MinMaxScaler, StandardScaler\n",
    "import joblib"
   ]
  },
  {
   "cell_type": "code",
   "execution_count": 7,
   "outputs": [
    {
     "data": {
      "text/plain": "Age                   45\nSex                    M\nChestPainType         TA\nRestingBP            110\nCholesterol          264\nFastingBS              0\nRestingECG        Normal\nMaxHR                132\nExerciseAngina         N\nOldpeak              1.2\nST_Slope            Flat\nHeartDisease           1\nName: 913, dtype: object"
     },
     "metadata": {},
     "output_type": "display_data"
    }
   ],
   "source": [
    "df = pd.read_csv(\"heart_failure_data.csv\")\n",
    "\n",
    "# TEMPORARY TESTING STUFF\n",
    "positive = df[df[\"HeartDisease\"] == 1]\n",
    "display(positive.loc[913])\n",
    "new_data = positive.drop([\"HeartDisease\"], axis=1)\n",
    "# display(new_data.loc[913])\n",
    "# END TEMP TESTING\n",
    "\n",
    "df = df.drop([\"HeartDisease\"], axis=1)"
   ],
   "metadata": {
    "collapsed": false,
    "ExecuteTime": {
     "end_time": "2023-05-25T00:13:15.194482Z",
     "start_time": "2023-05-25T00:13:15.162683Z"
    }
   }
  },
  {
   "cell_type": "markdown",
   "source": [
    "### Initialize new data"
   ],
   "metadata": {
    "collapsed": false
   }
  },
  {
   "cell_type": "code",
   "execution_count": 8,
   "outputs": [],
   "source": [
    "\n",
    "new_data = pd.Series({\n",
    "    \"Age\": [45],\n",
    "    \"Sex\": [\"M\"],\n",
    "    \"ChestPainType\": [\"TA\"],\n",
    "    \"RestingBP\": [110],\n",
    "    \"Cholesterol\": [264],\n",
    "    \"FastingBS\": [0],\n",
    "    \"RestingECG\": [\"Normal\"],\n",
    "    \"MaxHR\": [132],\n",
    "    \"ExerciseAngina\": [\"N\"],\n",
    "    \"Oldpeak\": [1.2],\n",
    "    \"ST_Slope\": [\"Flat\"]\n",
    "})\n",
    "# wait a second I can't seem to come up with data that has it"
   ],
   "metadata": {
    "collapsed": false,
    "ExecuteTime": {
     "end_time": "2023-05-25T00:13:15.195419Z",
     "start_time": "2023-05-25T00:13:15.172421Z"
    }
   }
  },
  {
   "cell_type": "markdown",
   "source": [
    "### Add new data to dataframe"
   ],
   "metadata": {
    "collapsed": false
   }
  },
  {
   "cell_type": "code",
   "execution_count": 9,
   "outputs": [
    {
     "data": {
      "text/plain": "     Age Sex ChestPainType  RestingBP  Cholesterol  FastingBS RestingECG   \n913   45   M            TA        110          264          0     Normal  \\\n914   68   M           ASY        144          193          1     Normal   \n915   57   M           ASY        130          131          0     Normal   \n916   57   F           ATA        130          236          0        LVH   \n917   38   M           NAP        138          175          0     Normal   \n\n     MaxHR ExerciseAngina  Oldpeak ST_Slope  \n913    132              N      1.2     Flat  \n914    141              N      3.4     Flat  \n915    115              Y      1.2     Flat  \n916    174              N      0.0     Flat  \n917    173              N      0.0       Up  ",
      "text/html": "<div>\n<style scoped>\n    .dataframe tbody tr th:only-of-type {\n        vertical-align: middle;\n    }\n\n    .dataframe tbody tr th {\n        vertical-align: top;\n    }\n\n    .dataframe thead th {\n        text-align: right;\n    }\n</style>\n<table border=\"1\" class=\"dataframe\">\n  <thead>\n    <tr style=\"text-align: right;\">\n      <th></th>\n      <th>Age</th>\n      <th>Sex</th>\n      <th>ChestPainType</th>\n      <th>RestingBP</th>\n      <th>Cholesterol</th>\n      <th>FastingBS</th>\n      <th>RestingECG</th>\n      <th>MaxHR</th>\n      <th>ExerciseAngina</th>\n      <th>Oldpeak</th>\n      <th>ST_Slope</th>\n    </tr>\n  </thead>\n  <tbody>\n    <tr>\n      <th>913</th>\n      <td>45</td>\n      <td>M</td>\n      <td>TA</td>\n      <td>110</td>\n      <td>264</td>\n      <td>0</td>\n      <td>Normal</td>\n      <td>132</td>\n      <td>N</td>\n      <td>1.2</td>\n      <td>Flat</td>\n    </tr>\n    <tr>\n      <th>914</th>\n      <td>68</td>\n      <td>M</td>\n      <td>ASY</td>\n      <td>144</td>\n      <td>193</td>\n      <td>1</td>\n      <td>Normal</td>\n      <td>141</td>\n      <td>N</td>\n      <td>3.4</td>\n      <td>Flat</td>\n    </tr>\n    <tr>\n      <th>915</th>\n      <td>57</td>\n      <td>M</td>\n      <td>ASY</td>\n      <td>130</td>\n      <td>131</td>\n      <td>0</td>\n      <td>Normal</td>\n      <td>115</td>\n      <td>Y</td>\n      <td>1.2</td>\n      <td>Flat</td>\n    </tr>\n    <tr>\n      <th>916</th>\n      <td>57</td>\n      <td>F</td>\n      <td>ATA</td>\n      <td>130</td>\n      <td>236</td>\n      <td>0</td>\n      <td>LVH</td>\n      <td>174</td>\n      <td>N</td>\n      <td>0.0</td>\n      <td>Flat</td>\n    </tr>\n    <tr>\n      <th>917</th>\n      <td>38</td>\n      <td>M</td>\n      <td>NAP</td>\n      <td>138</td>\n      <td>175</td>\n      <td>0</td>\n      <td>Normal</td>\n      <td>173</td>\n      <td>N</td>\n      <td>0.0</td>\n      <td>Up</td>\n    </tr>\n  </tbody>\n</table>\n</div>"
     },
     "metadata": {},
     "output_type": "display_data"
    },
    {
     "data": {
      "text/plain": "     Age Sex ChestPainType  RestingBP  Cholesterol  FastingBS RestingECG   \n914   68   M           ASY        144          193          1     Normal  \\\n915   57   M           ASY        130          131          0     Normal   \n916   57   F           ATA        130          236          0        LVH   \n917   38   M           NAP        138          175          0     Normal   \n918   45   M            TA        110          264          0     Normal   \n\n     MaxHR ExerciseAngina  Oldpeak ST_Slope  \n914    141              N      3.4     Flat  \n915    115              Y      1.2     Flat  \n916    174              N      0.0     Flat  \n917    173              N      0.0       Up  \n918    132              N      1.2     Flat  ",
      "text/html": "<div>\n<style scoped>\n    .dataframe tbody tr th:only-of-type {\n        vertical-align: middle;\n    }\n\n    .dataframe tbody tr th {\n        vertical-align: top;\n    }\n\n    .dataframe thead th {\n        text-align: right;\n    }\n</style>\n<table border=\"1\" class=\"dataframe\">\n  <thead>\n    <tr style=\"text-align: right;\">\n      <th></th>\n      <th>Age</th>\n      <th>Sex</th>\n      <th>ChestPainType</th>\n      <th>RestingBP</th>\n      <th>Cholesterol</th>\n      <th>FastingBS</th>\n      <th>RestingECG</th>\n      <th>MaxHR</th>\n      <th>ExerciseAngina</th>\n      <th>Oldpeak</th>\n      <th>ST_Slope</th>\n    </tr>\n  </thead>\n  <tbody>\n    <tr>\n      <th>914</th>\n      <td>68</td>\n      <td>M</td>\n      <td>ASY</td>\n      <td>144</td>\n      <td>193</td>\n      <td>1</td>\n      <td>Normal</td>\n      <td>141</td>\n      <td>N</td>\n      <td>3.4</td>\n      <td>Flat</td>\n    </tr>\n    <tr>\n      <th>915</th>\n      <td>57</td>\n      <td>M</td>\n      <td>ASY</td>\n      <td>130</td>\n      <td>131</td>\n      <td>0</td>\n      <td>Normal</td>\n      <td>115</td>\n      <td>Y</td>\n      <td>1.2</td>\n      <td>Flat</td>\n    </tr>\n    <tr>\n      <th>916</th>\n      <td>57</td>\n      <td>F</td>\n      <td>ATA</td>\n      <td>130</td>\n      <td>236</td>\n      <td>0</td>\n      <td>LVH</td>\n      <td>174</td>\n      <td>N</td>\n      <td>0.0</td>\n      <td>Flat</td>\n    </tr>\n    <tr>\n      <th>917</th>\n      <td>38</td>\n      <td>M</td>\n      <td>NAP</td>\n      <td>138</td>\n      <td>175</td>\n      <td>0</td>\n      <td>Normal</td>\n      <td>173</td>\n      <td>N</td>\n      <td>0.0</td>\n      <td>Up</td>\n    </tr>\n    <tr>\n      <th>918</th>\n      <td>45</td>\n      <td>M</td>\n      <td>TA</td>\n      <td>110</td>\n      <td>264</td>\n      <td>0</td>\n      <td>Normal</td>\n      <td>132</td>\n      <td>N</td>\n      <td>1.2</td>\n      <td>Flat</td>\n    </tr>\n  </tbody>\n</table>\n</div>"
     },
     "metadata": {},
     "output_type": "display_data"
    }
   ],
   "source": [
    "# add new data to dataframe\n",
    "display(df.tail())\n",
    "# df = pd.concat([new_data, df], ignore_index=True)\n",
    "df.loc[len(df)] = new_data\n",
    "display(df.tail())"
   ],
   "metadata": {
    "collapsed": false,
    "ExecuteTime": {
     "end_time": "2023-05-25T00:13:15.204116Z",
     "start_time": "2023-05-25T00:13:15.188514Z"
    }
   }
  },
  {
   "cell_type": "markdown",
   "source": [
    "### Augment features the same way I did on training data"
   ],
   "metadata": {
    "collapsed": false
   }
  },
  {
   "cell_type": "code",
   "execution_count": 10,
   "outputs": [],
   "source": [
    "numerical_features = df.select_dtypes(include=[np.number])\n",
    "numerical_features = numerical_features.drop([\"FastingBS\"], axis=1)\n",
    "continuous_feature_names = numerical_features.columns.tolist()\n",
    "\n",
    "categorical_features = df.select_dtypes(include=[object])\n",
    "categorical_feature_names = categorical_features.columns.to_list() + [\"FastingBS\"]"
   ],
   "metadata": {
    "collapsed": false,
    "ExecuteTime": {
     "end_time": "2023-05-25T00:13:15.228501Z",
     "start_time": "2023-05-25T00:13:15.202970Z"
    }
   }
  },
  {
   "cell_type": "code",
   "execution_count": 11,
   "outputs": [
    {
     "data": {
      "text/plain": "          Age Sex ChestPainType  RestingBP  Cholesterol  FastingBS RestingECG   \n914  1.538040   M           ASY   0.628236    -0.053717          1     Normal  \\\n915  0.371120   M           ASY  -0.128163    -0.621035          0     Normal   \n916  0.371120   F           ATA  -0.128163     0.339745          0        LVH   \n917 -1.644470   M           NAP   0.304065    -0.218422          0     Normal   \n918 -0.901884   M            TA  -1.208735     0.595953          0     Normal   \n\n        MaxHR ExerciseAngina   Oldpeak ST_Slope  \n914  0.164976              N  2.357948     Flat  \n915 -0.857313              Y  0.293109     Flat  \n916  1.462498              N -0.833166     Flat  \n917  1.423179              N -0.833166       Up  \n918 -0.188893              N  0.293109     Flat  ",
      "text/html": "<div>\n<style scoped>\n    .dataframe tbody tr th:only-of-type {\n        vertical-align: middle;\n    }\n\n    .dataframe tbody tr th {\n        vertical-align: top;\n    }\n\n    .dataframe thead th {\n        text-align: right;\n    }\n</style>\n<table border=\"1\" class=\"dataframe\">\n  <thead>\n    <tr style=\"text-align: right;\">\n      <th></th>\n      <th>Age</th>\n      <th>Sex</th>\n      <th>ChestPainType</th>\n      <th>RestingBP</th>\n      <th>Cholesterol</th>\n      <th>FastingBS</th>\n      <th>RestingECG</th>\n      <th>MaxHR</th>\n      <th>ExerciseAngina</th>\n      <th>Oldpeak</th>\n      <th>ST_Slope</th>\n    </tr>\n  </thead>\n  <tbody>\n    <tr>\n      <th>914</th>\n      <td>1.538040</td>\n      <td>M</td>\n      <td>ASY</td>\n      <td>0.628236</td>\n      <td>-0.053717</td>\n      <td>1</td>\n      <td>Normal</td>\n      <td>0.164976</td>\n      <td>N</td>\n      <td>2.357948</td>\n      <td>Flat</td>\n    </tr>\n    <tr>\n      <th>915</th>\n      <td>0.371120</td>\n      <td>M</td>\n      <td>ASY</td>\n      <td>-0.128163</td>\n      <td>-0.621035</td>\n      <td>0</td>\n      <td>Normal</td>\n      <td>-0.857313</td>\n      <td>Y</td>\n      <td>0.293109</td>\n      <td>Flat</td>\n    </tr>\n    <tr>\n      <th>916</th>\n      <td>0.371120</td>\n      <td>F</td>\n      <td>ATA</td>\n      <td>-0.128163</td>\n      <td>0.339745</td>\n      <td>0</td>\n      <td>LVH</td>\n      <td>1.462498</td>\n      <td>N</td>\n      <td>-0.833166</td>\n      <td>Flat</td>\n    </tr>\n    <tr>\n      <th>917</th>\n      <td>-1.644470</td>\n      <td>M</td>\n      <td>NAP</td>\n      <td>0.304065</td>\n      <td>-0.218422</td>\n      <td>0</td>\n      <td>Normal</td>\n      <td>1.423179</td>\n      <td>N</td>\n      <td>-0.833166</td>\n      <td>Up</td>\n    </tr>\n    <tr>\n      <th>918</th>\n      <td>-0.901884</td>\n      <td>M</td>\n      <td>TA</td>\n      <td>-1.208735</td>\n      <td>0.595953</td>\n      <td>0</td>\n      <td>Normal</td>\n      <td>-0.188893</td>\n      <td>N</td>\n      <td>0.293109</td>\n      <td>Flat</td>\n    </tr>\n  </tbody>\n</table>\n</div>"
     },
     "metadata": {},
     "output_type": "display_data"
    },
    {
     "data": {
      "text/plain": "          Age  RestingBP  Cholesterol     MaxHR   Oldpeak  Sex_F  Sex_M   \n914  1.538040   0.628236    -0.053717  0.164976  2.357948      0      1  \\\n915  0.371120  -0.128163    -0.621035 -0.857313  0.293109      0      1   \n916  0.371120  -0.128163     0.339745  1.462498 -0.833166      1      0   \n917 -1.644470   0.304065    -0.218422  1.423179 -0.833166      0      1   \n918 -0.901884  -1.208735     0.595953 -0.188893  0.293109      0      1   \n\n     ChestPainType_ASY  ChestPainType_ATA  ChestPainType_NAP  ...   \n914                  1                  0                  0  ...  \\\n915                  1                  0                  0  ...   \n916                  0                  1                  0  ...   \n917                  0                  0                  1  ...   \n918                  0                  0                  0  ...   \n\n     RestingECG_LVH  RestingECG_Normal  RestingECG_ST  ExerciseAngina_N   \n914               0                  1              0                 1  \\\n915               0                  1              0                 0   \n916               1                  0              0                 1   \n917               0                  1              0                 1   \n918               0                  1              0                 1   \n\n     ExerciseAngina_Y  ST_Slope_Down  ST_Slope_Flat  ST_Slope_Up  FastingBS_0   \n914                 0              0              1            0            0  \\\n915                 1              0              1            0            1   \n916                 0              0              1            0            1   \n917                 0              0              0            1            1   \n918                 0              0              1            0            1   \n\n     FastingBS_1  \n914            1  \n915            0  \n916            0  \n917            0  \n918            0  \n\n[5 rows x 21 columns]",
      "text/html": "<div>\n<style scoped>\n    .dataframe tbody tr th:only-of-type {\n        vertical-align: middle;\n    }\n\n    .dataframe tbody tr th {\n        vertical-align: top;\n    }\n\n    .dataframe thead th {\n        text-align: right;\n    }\n</style>\n<table border=\"1\" class=\"dataframe\">\n  <thead>\n    <tr style=\"text-align: right;\">\n      <th></th>\n      <th>Age</th>\n      <th>RestingBP</th>\n      <th>Cholesterol</th>\n      <th>MaxHR</th>\n      <th>Oldpeak</th>\n      <th>Sex_F</th>\n      <th>Sex_M</th>\n      <th>ChestPainType_ASY</th>\n      <th>ChestPainType_ATA</th>\n      <th>ChestPainType_NAP</th>\n      <th>...</th>\n      <th>RestingECG_LVH</th>\n      <th>RestingECG_Normal</th>\n      <th>RestingECG_ST</th>\n      <th>ExerciseAngina_N</th>\n      <th>ExerciseAngina_Y</th>\n      <th>ST_Slope_Down</th>\n      <th>ST_Slope_Flat</th>\n      <th>ST_Slope_Up</th>\n      <th>FastingBS_0</th>\n      <th>FastingBS_1</th>\n    </tr>\n  </thead>\n  <tbody>\n    <tr>\n      <th>914</th>\n      <td>1.538040</td>\n      <td>0.628236</td>\n      <td>-0.053717</td>\n      <td>0.164976</td>\n      <td>2.357948</td>\n      <td>0</td>\n      <td>1</td>\n      <td>1</td>\n      <td>0</td>\n      <td>0</td>\n      <td>...</td>\n      <td>0</td>\n      <td>1</td>\n      <td>0</td>\n      <td>1</td>\n      <td>0</td>\n      <td>0</td>\n      <td>1</td>\n      <td>0</td>\n      <td>0</td>\n      <td>1</td>\n    </tr>\n    <tr>\n      <th>915</th>\n      <td>0.371120</td>\n      <td>-0.128163</td>\n      <td>-0.621035</td>\n      <td>-0.857313</td>\n      <td>0.293109</td>\n      <td>0</td>\n      <td>1</td>\n      <td>1</td>\n      <td>0</td>\n      <td>0</td>\n      <td>...</td>\n      <td>0</td>\n      <td>1</td>\n      <td>0</td>\n      <td>0</td>\n      <td>1</td>\n      <td>0</td>\n      <td>1</td>\n      <td>0</td>\n      <td>1</td>\n      <td>0</td>\n    </tr>\n    <tr>\n      <th>916</th>\n      <td>0.371120</td>\n      <td>-0.128163</td>\n      <td>0.339745</td>\n      <td>1.462498</td>\n      <td>-0.833166</td>\n      <td>1</td>\n      <td>0</td>\n      <td>0</td>\n      <td>1</td>\n      <td>0</td>\n      <td>...</td>\n      <td>1</td>\n      <td>0</td>\n      <td>0</td>\n      <td>1</td>\n      <td>0</td>\n      <td>0</td>\n      <td>1</td>\n      <td>0</td>\n      <td>1</td>\n      <td>0</td>\n    </tr>\n    <tr>\n      <th>917</th>\n      <td>-1.644470</td>\n      <td>0.304065</td>\n      <td>-0.218422</td>\n      <td>1.423179</td>\n      <td>-0.833166</td>\n      <td>0</td>\n      <td>1</td>\n      <td>0</td>\n      <td>0</td>\n      <td>1</td>\n      <td>...</td>\n      <td>0</td>\n      <td>1</td>\n      <td>0</td>\n      <td>1</td>\n      <td>0</td>\n      <td>0</td>\n      <td>0</td>\n      <td>1</td>\n      <td>1</td>\n      <td>0</td>\n    </tr>\n    <tr>\n      <th>918</th>\n      <td>-0.901884</td>\n      <td>-1.208735</td>\n      <td>0.595953</td>\n      <td>-0.188893</td>\n      <td>0.293109</td>\n      <td>0</td>\n      <td>1</td>\n      <td>0</td>\n      <td>0</td>\n      <td>0</td>\n      <td>...</td>\n      <td>0</td>\n      <td>1</td>\n      <td>0</td>\n      <td>1</td>\n      <td>0</td>\n      <td>0</td>\n      <td>1</td>\n      <td>0</td>\n      <td>1</td>\n      <td>0</td>\n    </tr>\n  </tbody>\n</table>\n<p>5 rows × 21 columns</p>\n</div>"
     },
     "metadata": {},
     "output_type": "display_data"
    }
   ],
   "source": [
    "df2 = df.copy(deep=True)  # make a copy of the original data which we will modify\n",
    "\n",
    "# Initialize the scalers\n",
    "min_max_scaler = MinMaxScaler()\n",
    "standard_scaler = StandardScaler()  # not clear this was required for 'Age', 'RestingBP', or, 'MaxHR' because those were already looking pretty close to Gaussian. Further normalization here is unlikely to hurt, however. A further investigation into normality with QQ-plots and the shapiro wilk test could be a future direction and dictate whether those features get StandardScaler applied to them\n",
    "\n",
    "# Apply both scalers to each continuous variable\n",
    "for feature in continuous_feature_names:\n",
    "    # Perform MinMax scaling\n",
    "    min_max_scaled_data = min_max_scaler.fit_transform(df2[[feature]])\n",
    "\n",
    "    # Perform Standard scaling on the MinMax scaled data\n",
    "    min_max_standard_scaled_data = standard_scaler.fit_transform(min_max_scaled_data)\n",
    "\n",
    "    # Update the original DataFrame with the scaled data\n",
    "    df2[feature] = min_max_standard_scaled_data.flatten()\n",
    "\n",
    "display(df2.tail())\n",
    "\n",
    "# one hot encoding of categorical variables\n",
    "df2 = pd.get_dummies(df2, columns=categorical_feature_names, dtype=int)\n",
    "display(df2.tail())"
   ],
   "metadata": {
    "collapsed": false,
    "ExecuteTime": {
     "end_time": "2023-05-25T00:13:15.295197Z",
     "start_time": "2023-05-25T00:13:15.209974Z"
    }
   }
  },
  {
   "cell_type": "markdown",
   "source": [
    "### Extract row I added"
   ],
   "metadata": {
    "collapsed": false
   }
  },
  {
   "cell_type": "code",
   "execution_count": 12,
   "outputs": [
    {
     "data": {
      "text/plain": "          Age  RestingBP  Cholesterol     MaxHR   Oldpeak  Sex_F  Sex_M   \n918 -0.901884  -1.208735     0.595953 -0.188893  0.293109      0      1  \\\n\n     ChestPainType_ASY  ChestPainType_ATA  ChestPainType_NAP  ...   \n918                  0                  0                  0  ...  \\\n\n     RestingECG_LVH  RestingECG_Normal  RestingECG_ST  ExerciseAngina_N   \n918               0                  1              0                 1  \\\n\n     ExerciseAngina_Y  ST_Slope_Down  ST_Slope_Flat  ST_Slope_Up  FastingBS_0   \n918                 0              0              1            0            1  \\\n\n     FastingBS_1  \n918            0  \n\n[1 rows x 21 columns]",
      "text/html": "<div>\n<style scoped>\n    .dataframe tbody tr th:only-of-type {\n        vertical-align: middle;\n    }\n\n    .dataframe tbody tr th {\n        vertical-align: top;\n    }\n\n    .dataframe thead th {\n        text-align: right;\n    }\n</style>\n<table border=\"1\" class=\"dataframe\">\n  <thead>\n    <tr style=\"text-align: right;\">\n      <th></th>\n      <th>Age</th>\n      <th>RestingBP</th>\n      <th>Cholesterol</th>\n      <th>MaxHR</th>\n      <th>Oldpeak</th>\n      <th>Sex_F</th>\n      <th>Sex_M</th>\n      <th>ChestPainType_ASY</th>\n      <th>ChestPainType_ATA</th>\n      <th>ChestPainType_NAP</th>\n      <th>...</th>\n      <th>RestingECG_LVH</th>\n      <th>RestingECG_Normal</th>\n      <th>RestingECG_ST</th>\n      <th>ExerciseAngina_N</th>\n      <th>ExerciseAngina_Y</th>\n      <th>ST_Slope_Down</th>\n      <th>ST_Slope_Flat</th>\n      <th>ST_Slope_Up</th>\n      <th>FastingBS_0</th>\n      <th>FastingBS_1</th>\n    </tr>\n  </thead>\n  <tbody>\n    <tr>\n      <th>918</th>\n      <td>-0.901884</td>\n      <td>-1.208735</td>\n      <td>0.595953</td>\n      <td>-0.188893</td>\n      <td>0.293109</td>\n      <td>0</td>\n      <td>1</td>\n      <td>0</td>\n      <td>0</td>\n      <td>0</td>\n      <td>...</td>\n      <td>0</td>\n      <td>1</td>\n      <td>0</td>\n      <td>1</td>\n      <td>0</td>\n      <td>0</td>\n      <td>1</td>\n      <td>0</td>\n      <td>1</td>\n      <td>0</td>\n    </tr>\n  </tbody>\n</table>\n<p>1 rows × 21 columns</p>\n</div>"
     },
     "metadata": {},
     "output_type": "display_data"
    }
   ],
   "source": [
    "to_predict = df2.tail(1)  # get last row, keep as dataframe structure\n",
    "display(to_predict)"
   ],
   "metadata": {
    "collapsed": false,
    "ExecuteTime": {
     "end_time": "2023-05-25T00:13:15.313671Z",
     "start_time": "2023-05-25T00:13:15.245833Z"
    }
   }
  },
  {
   "cell_type": "markdown",
   "source": [
    "### Import models"
   ],
   "metadata": {
    "collapsed": false
   }
  },
  {
   "cell_type": "code",
   "execution_count": 13,
   "outputs": [],
   "source": [
    "# Load the models\n",
    "gnb_model1 = joblib.load(\"saved models/gnb_model1.pkl\")\n",
    "logistic_regressor1 = joblib.load(\"saved models/logistic_regressor1.pkl\")\n",
    "# Repeat for each model"
   ],
   "metadata": {
    "collapsed": false,
    "ExecuteTime": {
     "end_time": "2023-05-25T00:13:15.384044Z",
     "start_time": "2023-05-25T00:13:15.256512Z"
    }
   }
  },
  {
   "cell_type": "code",
   "execution_count": 14,
   "outputs": [
    {
     "name": "stdout",
     "output_type": "stream",
     "text": [
      "[1] [0]\n"
     ]
    }
   ],
   "source": [
    "# Use the loaded models to make predictions\n",
    "predictions1 = gnb_model1.predict(to_predict)\n",
    "predictions2 = logistic_regressor1.predict(to_predict)\n",
    "# Repeat for each model you want to use for predictions\n",
    "print(predictions2, predictions1)"
   ],
   "metadata": {
    "collapsed": false,
    "ExecuteTime": {
     "end_time": "2023-05-25T00:13:15.384251Z",
     "start_time": "2023-05-25T00:13:15.362349Z"
    }
   }
  },
  {
   "cell_type": "markdown",
   "source": [
    "# Conclusion:\n",
    "- Great! this went well, now I can implement a separate interface to prompt a user for their data and have my model predict their state!"
   ],
   "metadata": {
    "collapsed": false
   }
  }
 ],
 "metadata": {
  "kernelspec": {
   "display_name": "Python 3",
   "language": "python",
   "name": "python3"
  },
  "language_info": {
   "codemirror_mode": {
    "name": "ipython",
    "version": 2
   },
   "file_extension": ".py",
   "mimetype": "text/x-python",
   "name": "python",
   "nbconvert_exporter": "python",
   "pygments_lexer": "ipython2",
   "version": "2.7.6"
  }
 },
 "nbformat": 4,
 "nbformat_minor": 0
}
